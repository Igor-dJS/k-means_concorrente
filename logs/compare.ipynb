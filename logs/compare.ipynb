{
 "cells": [
  {
   "cell_type": "code",
   "execution_count": 195,
   "metadata": {},
   "outputs": [],
   "source": [
    "import pandas as pd"
   ]
  },
  {
   "cell_type": "code",
   "execution_count": 196,
   "metadata": {},
   "outputs": [],
   "source": [
    "def comparar_linhas(df1, df2):\n",
    "    # Cria uma lista para armazenar os pares de índices\n",
    "    relacionamentos = []\n",
    "\n",
    "    # Itera sobre as linhas do primeiro DataFrame (df1)\n",
    "    for idx1, row1 in df1.iterrows():\n",
    "        # Verifica qual linha do df2 é igual à linha atual de df1\n",
    "        for idx2, row2 in df2.iterrows():\n",
    "            if row1.equals(row2):  # Verifica se as linhas são idênticas\n",
    "                relacionamentos.append((idx1, idx2))  # Adiciona o par de índices\n",
    "\n",
    "    return relacionamentos\n",
    "\n",
    "def substituir_por_relacionamento(df, relacionamentos, coluna):\n",
    "    # Itera sobre as linhas do DataFrame\n",
    "    for idx, row in df.iterrows():\n",
    "        valor_coluna = row[coluna]  # Valor atual da coluna na linha\n",
    "        \n",
    "        # Verifica se o valor da coluna está no relacionamento (primeiro valor da tupla)\n",
    "        for idx1, idx2 in relacionamentos:\n",
    "            if valor_coluna == idx1:  # Se o valor na coluna é igual ao primeiro índice\n",
    "                df.at[idx, coluna] = idx2  # Substitui pelo segundo valor da tupla\n",
    "                \n",
    "    return df\n",
    "\n",
    "def verificar_igualdade_generic(seq_cent, conc_cent, seq_data, conc_data):\n",
    "    seq_data = seq_data.copy()\n",
    "    conc_data = conc_data.copy()\n",
    "\n",
    "    # Verificar a relação entre os centroides\n",
    "    rel = comparar_linhas(seq_cent, conc_cent)\n",
    "\n",
    "    # Deixa a referências aos centroides igual a dos dados do concorrente\n",
    "    # Os mesmos centróides estão em linhas diferentes nos arquivos de cada execução\n",
    "    # Então é preciso fazer essa correlação para termos as uma única referência a um mesmo centróide\n",
    "    seq_data = substituir_por_relacionamento(seq_data, rel, \"centroide\")\n",
    "\n",
    "    # Ordena pelo índice do dataset original e reseta os índices para comparar depois\n",
    "    conc_data.sort_values(\"index\", inplace=True)\n",
    "    conc_data.reset_index(drop=True,inplace=True)\n",
    "\n",
    "    seq_data.sort_values(\"index\", inplace=True)\n",
    "    seq_data.reset_index(drop=True,inplace=True)\n",
    "\n",
    "    # Guarda series que possui True para igualdades e False para diferentes\n",
    "    # Foi necessário resetar o índice anteriormente pois essa comparação necessita\n",
    "    # que os índices sejam os mesmos na mesma sequência\n",
    "    igualdades = (seq_data[\"centroide\"] == conc_data[\"centroide\"])\n",
    "\n",
    "    # Obtém a quantidade de diferenças\n",
    "    disc = (~igualdades).sum()\n",
    "\n",
    "    \n",
    "    if (disc) == 0:\n",
    "        print(disc)\n",
    "        print(\"Os dois programas atribuiram os mesmos pontos aos mesmos centroides.\")\n",
    "    else:\n",
    "        print(disc)\n",
    "        print(\"Há pontos iguais pertencentes a centroides diferentes. Houve discordância entre os programas\")"
   ]
  },
  {
   "cell_type": "markdown",
   "metadata": {},
   "source": [
    "# Primeiro teste"
   ]
  },
  {
   "cell_type": "markdown",
   "metadata": {},
   "source": [
    "- K = 3\n",
    "- Número de Processos = 8\n",
    "- Colunas utilizadas = [\"SepalLengthCm\", \"SepalWidthCm\", \"PetalLengthCm\", \"PetalWidthCm\"]"
   ]
  },
  {
   "cell_type": "markdown",
   "metadata": {},
   "source": [
    "## Sequencial"
   ]
  },
  {
   "cell_type": "code",
   "execution_count": 197,
   "metadata": {},
   "outputs": [],
   "source": [
    "df_seq_cent = pd.read_csv(\"./Sequencial/k_3_centers\")"
   ]
  },
  {
   "cell_type": "code",
   "execution_count": 198,
   "metadata": {},
   "outputs": [],
   "source": [
    "df_seq_data = pd.read_csv(\"./Sequencial/k_3_data\")"
   ]
  },
  {
   "cell_type": "markdown",
   "metadata": {},
   "source": [
    "## Concorrente"
   ]
  },
  {
   "cell_type": "code",
   "execution_count": 199,
   "metadata": {},
   "outputs": [],
   "source": [
    "df_conc_cent = pd.read_csv(\"./Concorrente/k_3_p_8_centers\")"
   ]
  },
  {
   "cell_type": "code",
   "execution_count": 200,
   "metadata": {},
   "outputs": [],
   "source": [
    "df_conc_data = pd.read_csv(\"./Concorrente/k_3_p_8_data\")"
   ]
  },
  {
   "cell_type": "markdown",
   "metadata": {},
   "source": [
    "-----------------------"
   ]
  },
  {
   "cell_type": "code",
   "execution_count": 201,
   "metadata": {},
   "outputs": [
    {
     "data": {
      "text/html": [
       "<div>\n",
       "<style scoped>\n",
       "    .dataframe tbody tr th:only-of-type {\n",
       "        vertical-align: middle;\n",
       "    }\n",
       "\n",
       "    .dataframe tbody tr th {\n",
       "        vertical-align: top;\n",
       "    }\n",
       "\n",
       "    .dataframe thead th {\n",
       "        text-align: right;\n",
       "    }\n",
       "</style>\n",
       "<table border=\"1\" class=\"dataframe\">\n",
       "  <thead>\n",
       "    <tr style=\"text-align: right;\">\n",
       "      <th></th>\n",
       "      <th>SepalLengthCm</th>\n",
       "      <th>SepalWidthCm</th>\n",
       "      <th>PetalLengthCm</th>\n",
       "      <th>PetalWidthCm</th>\n",
       "    </tr>\n",
       "  </thead>\n",
       "  <tbody>\n",
       "    <tr>\n",
       "      <th>0</th>\n",
       "      <td>5.00600</td>\n",
       "      <td>3.41800</td>\n",
       "      <td>1.46400</td>\n",
       "      <td>0.24400</td>\n",
       "    </tr>\n",
       "    <tr>\n",
       "      <th>1</th>\n",
       "      <td>6.85385</td>\n",
       "      <td>3.07692</td>\n",
       "      <td>5.71538</td>\n",
       "      <td>2.05385</td>\n",
       "    </tr>\n",
       "    <tr>\n",
       "      <th>2</th>\n",
       "      <td>5.88361</td>\n",
       "      <td>2.74098</td>\n",
       "      <td>4.38852</td>\n",
       "      <td>1.43443</td>\n",
       "    </tr>\n",
       "  </tbody>\n",
       "</table>\n",
       "</div>"
      ],
      "text/plain": [
       "   SepalLengthCm  SepalWidthCm  PetalLengthCm  PetalWidthCm\n",
       "0        5.00600       3.41800        1.46400       0.24400\n",
       "1        6.85385       3.07692        5.71538       2.05385\n",
       "2        5.88361       2.74098        4.38852       1.43443"
      ]
     },
     "execution_count": 201,
     "metadata": {},
     "output_type": "execute_result"
    }
   ],
   "source": [
    "df_seq_cent"
   ]
  },
  {
   "cell_type": "code",
   "execution_count": 202,
   "metadata": {},
   "outputs": [
    {
     "data": {
      "text/html": [
       "<div>\n",
       "<style scoped>\n",
       "    .dataframe tbody tr th:only-of-type {\n",
       "        vertical-align: middle;\n",
       "    }\n",
       "\n",
       "    .dataframe tbody tr th {\n",
       "        vertical-align: top;\n",
       "    }\n",
       "\n",
       "    .dataframe thead th {\n",
       "        text-align: right;\n",
       "    }\n",
       "</style>\n",
       "<table border=\"1\" class=\"dataframe\">\n",
       "  <thead>\n",
       "    <tr style=\"text-align: right;\">\n",
       "      <th></th>\n",
       "      <th>SepalLengthCm</th>\n",
       "      <th>SepalWidthCm</th>\n",
       "      <th>PetalLengthCm</th>\n",
       "      <th>PetalWidthCm</th>\n",
       "    </tr>\n",
       "  </thead>\n",
       "  <tbody>\n",
       "    <tr>\n",
       "      <th>0</th>\n",
       "      <td>6.85385</td>\n",
       "      <td>3.07692</td>\n",
       "      <td>5.71538</td>\n",
       "      <td>2.05385</td>\n",
       "    </tr>\n",
       "    <tr>\n",
       "      <th>1</th>\n",
       "      <td>5.88361</td>\n",
       "      <td>2.74098</td>\n",
       "      <td>4.38852</td>\n",
       "      <td>1.43443</td>\n",
       "    </tr>\n",
       "    <tr>\n",
       "      <th>2</th>\n",
       "      <td>5.00600</td>\n",
       "      <td>3.41800</td>\n",
       "      <td>1.46400</td>\n",
       "      <td>0.24400</td>\n",
       "    </tr>\n",
       "  </tbody>\n",
       "</table>\n",
       "</div>"
      ],
      "text/plain": [
       "   SepalLengthCm  SepalWidthCm  PetalLengthCm  PetalWidthCm\n",
       "0        6.85385       3.07692        5.71538       2.05385\n",
       "1        5.88361       2.74098        4.38852       1.43443\n",
       "2        5.00600       3.41800        1.46400       0.24400"
      ]
     },
     "execution_count": 202,
     "metadata": {},
     "output_type": "execute_result"
    }
   ],
   "source": [
    "df_conc_cent"
   ]
  },
  {
   "cell_type": "code",
   "execution_count": 203,
   "metadata": {},
   "outputs": [
    {
     "name": "stdout",
     "output_type": "stream",
     "text": [
      "0\n",
      "Os dois programas atribuiram os mesmos pontos aos mesmos centroides.\n"
     ]
    }
   ],
   "source": [
    "verificar_igualdade_generic(df_seq_cent, df_conc_cent, df_seq_data, df_conc_data)"
   ]
  },
  {
   "cell_type": "markdown",
   "metadata": {},
   "source": [
    "# Segundo teste"
   ]
  },
  {
   "cell_type": "markdown",
   "metadata": {},
   "source": [
    "- K = 4\n",
    "- Número de Processos = 8\n",
    "- Colunas utilizadas = [\"SepalLengthCm\", \"SepalWidthCm\", \"PetalLengthCm\", \"PetalWidthCm\"]"
   ]
  },
  {
   "cell_type": "markdown",
   "metadata": {},
   "source": [
    "## Sequencial"
   ]
  },
  {
   "cell_type": "code",
   "execution_count": 204,
   "metadata": {},
   "outputs": [],
   "source": [
    "df_seq_cent = pd.read_csv(\"./Sequencial/k_4_centers\")"
   ]
  },
  {
   "cell_type": "code",
   "execution_count": 205,
   "metadata": {},
   "outputs": [],
   "source": [
    "df_seq_data = pd.read_csv(\"./Sequencial/k_4_data\")"
   ]
  },
  {
   "cell_type": "markdown",
   "metadata": {},
   "source": [
    "## Concorrente"
   ]
  },
  {
   "cell_type": "code",
   "execution_count": 210,
   "metadata": {},
   "outputs": [],
   "source": [
    "df_conc_cent = pd.read_csv(\"./Concorrente/k_4_p_8_centers\")"
   ]
  },
  {
   "cell_type": "code",
   "execution_count": 211,
   "metadata": {},
   "outputs": [],
   "source": [
    "df_conc_data = pd.read_csv(\"./Concorrente/k_4_p_8_data\")"
   ]
  },
  {
   "cell_type": "markdown",
   "metadata": {},
   "source": [
    "-----------------------"
   ]
  },
  {
   "cell_type": "code",
   "execution_count": 208,
   "metadata": {},
   "outputs": [
    {
     "data": {
      "text/html": [
       "<div>\n",
       "<style scoped>\n",
       "    .dataframe tbody tr th:only-of-type {\n",
       "        vertical-align: middle;\n",
       "    }\n",
       "\n",
       "    .dataframe tbody tr th {\n",
       "        vertical-align: top;\n",
       "    }\n",
       "\n",
       "    .dataframe thead th {\n",
       "        text-align: right;\n",
       "    }\n",
       "</style>\n",
       "<table border=\"1\" class=\"dataframe\">\n",
       "  <thead>\n",
       "    <tr style=\"text-align: right;\">\n",
       "      <th></th>\n",
       "      <th>SepalLengthCm</th>\n",
       "      <th>SepalWidthCm</th>\n",
       "      <th>PetalLengthCm</th>\n",
       "      <th>PetalWidthCm</th>\n",
       "    </tr>\n",
       "  </thead>\n",
       "  <tbody>\n",
       "    <tr>\n",
       "      <th>0</th>\n",
       "      <td>5.00600</td>\n",
       "      <td>3.41800</td>\n",
       "      <td>1.46400</td>\n",
       "      <td>0.24400</td>\n",
       "    </tr>\n",
       "    <tr>\n",
       "      <th>1</th>\n",
       "      <td>6.91250</td>\n",
       "      <td>3.10000</td>\n",
       "      <td>5.84687</td>\n",
       "      <td>2.13125</td>\n",
       "    </tr>\n",
       "    <tr>\n",
       "      <th>2</th>\n",
       "      <td>5.52963</td>\n",
       "      <td>2.62222</td>\n",
       "      <td>3.94074</td>\n",
       "      <td>1.21852</td>\n",
       "    </tr>\n",
       "    <tr>\n",
       "      <th>3</th>\n",
       "      <td>6.23659</td>\n",
       "      <td>2.85854</td>\n",
       "      <td>4.80732</td>\n",
       "      <td>1.62195</td>\n",
       "    </tr>\n",
       "  </tbody>\n",
       "</table>\n",
       "</div>"
      ],
      "text/plain": [
       "   SepalLengthCm  SepalWidthCm  PetalLengthCm  PetalWidthCm\n",
       "0        5.00600       3.41800        1.46400       0.24400\n",
       "1        6.91250       3.10000        5.84687       2.13125\n",
       "2        5.52963       2.62222        3.94074       1.21852\n",
       "3        6.23659       2.85854        4.80732       1.62195"
      ]
     },
     "execution_count": 208,
     "metadata": {},
     "output_type": "execute_result"
    }
   ],
   "source": [
    "df_seq_cent"
   ]
  },
  {
   "cell_type": "code",
   "execution_count": 213,
   "metadata": {},
   "outputs": [
    {
     "data": {
      "text/html": [
       "<div>\n",
       "<style scoped>\n",
       "    .dataframe tbody tr th:only-of-type {\n",
       "        vertical-align: middle;\n",
       "    }\n",
       "\n",
       "    .dataframe tbody tr th {\n",
       "        vertical-align: top;\n",
       "    }\n",
       "\n",
       "    .dataframe thead th {\n",
       "        text-align: right;\n",
       "    }\n",
       "</style>\n",
       "<table border=\"1\" class=\"dataframe\">\n",
       "  <thead>\n",
       "    <tr style=\"text-align: right;\">\n",
       "      <th></th>\n",
       "      <th>SepalLengthCm</th>\n",
       "      <th>SepalWidthCm</th>\n",
       "      <th>PetalLengthCm</th>\n",
       "      <th>PetalWidthCm</th>\n",
       "    </tr>\n",
       "  </thead>\n",
       "  <tbody>\n",
       "    <tr>\n",
       "      <th>0</th>\n",
       "      <td>6.91250</td>\n",
       "      <td>3.10000</td>\n",
       "      <td>5.84688</td>\n",
       "      <td>2.13125</td>\n",
       "    </tr>\n",
       "    <tr>\n",
       "      <th>1</th>\n",
       "      <td>6.25250</td>\n",
       "      <td>2.85500</td>\n",
       "      <td>4.81500</td>\n",
       "      <td>1.62500</td>\n",
       "    </tr>\n",
       "    <tr>\n",
       "      <th>2</th>\n",
       "      <td>5.00600</td>\n",
       "      <td>3.41800</td>\n",
       "      <td>1.46400</td>\n",
       "      <td>0.24400</td>\n",
       "    </tr>\n",
       "    <tr>\n",
       "      <th>3</th>\n",
       "      <td>5.53214</td>\n",
       "      <td>2.63571</td>\n",
       "      <td>3.96071</td>\n",
       "      <td>1.22857</td>\n",
       "    </tr>\n",
       "  </tbody>\n",
       "</table>\n",
       "</div>"
      ],
      "text/plain": [
       "   SepalLengthCm  SepalWidthCm  PetalLengthCm  PetalWidthCm\n",
       "0        6.91250       3.10000        5.84688       2.13125\n",
       "1        6.25250       2.85500        4.81500       1.62500\n",
       "2        5.00600       3.41800        1.46400       0.24400\n",
       "3        5.53214       2.63571        3.96071       1.22857"
      ]
     },
     "execution_count": 213,
     "metadata": {},
     "output_type": "execute_result"
    }
   ],
   "source": [
    "df_conc_cent"
   ]
  },
  {
   "cell_type": "code",
   "execution_count": 214,
   "metadata": {},
   "outputs": [
    {
     "name": "stdout",
     "output_type": "stream",
     "text": [
      "99\n",
      "Há pontos iguais pertencentes a centroides diferentes. Houve discordância entre os programas\n"
     ]
    }
   ],
   "source": [
    "verificar_igualdade_generic(df_seq_cent, df_conc_cent, df_seq_data, df_conc_data)"
   ]
  },
  {
   "cell_type": "markdown",
   "metadata": {},
   "source": [
    "# Terceiro teste"
   ]
  },
  {
   "cell_type": "markdown",
   "metadata": {},
   "source": [
    "- K = 3\n",
    "- Número de Processos = 4\n",
    "- Colunas utilizadas = [\"SepalLengthCm\", \"SepalWidthCm\", \"PetalLengthCm\", \"PetalWidthCm\"]"
   ]
  },
  {
   "cell_type": "markdown",
   "metadata": {},
   "source": [
    "## Sequencial"
   ]
  },
  {
   "cell_type": "code",
   "execution_count": 185,
   "metadata": {},
   "outputs": [],
   "source": [
    "df_seq_cent = pd.read_csv(\"./Sequencial/k_3_centers\")"
   ]
  },
  {
   "cell_type": "code",
   "execution_count": 186,
   "metadata": {},
   "outputs": [],
   "source": [
    "df_seq_data = pd.read_csv(\"./Sequencial/k_3_data\")"
   ]
  },
  {
   "cell_type": "markdown",
   "metadata": {},
   "source": [
    "## Concorrente"
   ]
  },
  {
   "cell_type": "code",
   "execution_count": 187,
   "metadata": {},
   "outputs": [],
   "source": [
    "df_conc_cent = pd.read_csv(\"./Concorrente/k_3_p_4_centers\")"
   ]
  },
  {
   "cell_type": "code",
   "execution_count": 188,
   "metadata": {},
   "outputs": [],
   "source": [
    "df_conc_data = pd.read_csv(\"./Concorrente/k_3_p_4_data\")"
   ]
  },
  {
   "cell_type": "markdown",
   "metadata": {},
   "source": [
    "-----------------------"
   ]
  },
  {
   "cell_type": "code",
   "execution_count": 189,
   "metadata": {},
   "outputs": [
    {
     "name": "stdout",
     "output_type": "stream",
     "text": [
      "0\n",
      "Os dois programas atribuiram os mesmos pontos aos mesmos centroides.\n"
     ]
    }
   ],
   "source": [
    "verificar_igualdade_generic(df_seq_cent, df_conc_cent, df_seq_data, df_conc_data)"
   ]
  },
  {
   "cell_type": "markdown",
   "metadata": {},
   "source": [
    "# Quarto teste"
   ]
  },
  {
   "cell_type": "markdown",
   "metadata": {},
   "source": [
    "- K = 4\n",
    "- Número de Processos = 4\n",
    "- Colunas utilizadas = [\"SepalLengthCm\", \"SepalWidthCm\", \"PetalLengthCm\", \"PetalWidthCm\"]"
   ]
  },
  {
   "cell_type": "markdown",
   "metadata": {},
   "source": [
    "## Sequencial"
   ]
  },
  {
   "cell_type": "code",
   "execution_count": 190,
   "metadata": {},
   "outputs": [],
   "source": [
    "df_seq_cent = pd.read_csv(\"./Sequencial/k_4_centers\")"
   ]
  },
  {
   "cell_type": "code",
   "execution_count": 191,
   "metadata": {},
   "outputs": [],
   "source": [
    "df_seq_data = pd.read_csv(\"./Sequencial/k_4_data\")"
   ]
  },
  {
   "cell_type": "markdown",
   "metadata": {},
   "source": [
    "## Concorrente"
   ]
  },
  {
   "cell_type": "code",
   "execution_count": 192,
   "metadata": {},
   "outputs": [],
   "source": [
    "df_conc_cent = pd.read_csv(\"./Concorrente/k_4_p_4_centers\")"
   ]
  },
  {
   "cell_type": "code",
   "execution_count": 193,
   "metadata": {},
   "outputs": [],
   "source": [
    "df_conc_data = pd.read_csv(\"./Concorrente/k_4_p_4_data\")"
   ]
  },
  {
   "cell_type": "markdown",
   "metadata": {},
   "source": [
    "-----------------------"
   ]
  },
  {
   "cell_type": "code",
   "execution_count": 194,
   "metadata": {},
   "outputs": [
    {
     "name": "stdout",
     "output_type": "stream",
     "text": [
      "0\n",
      "Os dois programas atribuiram os mesmos pontos aos mesmos centroides.\n"
     ]
    }
   ],
   "source": [
    "verificar_igualdade_generic(df_seq_cent, df_conc_cent, df_seq_data, df_conc_data)"
   ]
  },
  {
   "cell_type": "markdown",
   "metadata": {},
   "source": [
    "# Conclusão"
   ]
  },
  {
   "cell_type": "markdown",
   "metadata": {},
   "source": [
    "É importante notar que depedendo da execução, em alguns casos a posição dos centróides podem variar ligeiramente no programa concorrente podendo possuir algumas discordâncias com o sequencial. Isso se deve ao fato dos computadores não possuirem precisão infinita, ocasionando em resultados diferentes depedendo da ordem das operações matemáticas sobre números de ponto flutuante. Entretanto, para alguns casos é possível verificar que aparentemente o resultado do concorrente está completamente de acordo com o do sequencial, sendo assim, isso nos leva a concluir que o programa concorrente está correto apesar desses casos eventuais."
   ]
  }
 ],
 "metadata": {
  "kernelspec": {
   "display_name": "k-means_concorrente",
   "language": "python",
   "name": "python3"
  },
  "language_info": {
   "codemirror_mode": {
    "name": "ipython",
    "version": 3
   },
   "file_extension": ".py",
   "mimetype": "text/x-python",
   "name": "python",
   "nbconvert_exporter": "python",
   "pygments_lexer": "ipython3",
   "version": "3.10.12"
  }
 },
 "nbformat": 4,
 "nbformat_minor": 2
}
