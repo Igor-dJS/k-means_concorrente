{
 "cells": [
  {
   "cell_type": "code",
   "execution_count": 39,
   "metadata": {},
   "outputs": [],
   "source": [
    "import pandas as pd"
   ]
  },
  {
   "cell_type": "code",
   "execution_count": 79,
   "metadata": {},
   "outputs": [],
   "source": [
    "def comparar_linhas(df1, df2):\n",
    "    # Cria uma lista para armazenar os pares de índices\n",
    "    relacionamentos = []\n",
    "\n",
    "    # Itera sobre as linhas do primeiro DataFrame (df1)\n",
    "    for idx1, row1 in df1.iterrows():\n",
    "        # Verifica qual linha do df2 é igual à linha atual de df1\n",
    "        for idx2, row2 in df2.iterrows():\n",
    "            if row1.equals(row2):  # Verifica se as linhas são idênticas\n",
    "                relacionamentos.append((idx1, idx2))  # Adiciona o par de índices\n",
    "\n",
    "    return relacionamentos\n",
    "\n",
    "def substituir_por_relacionamento(df, relacionamentos, coluna):\n",
    "    # Itera sobre as linhas do DataFrame\n",
    "    for idx, row in df.iterrows():\n",
    "        valor_coluna = row[coluna]  # Valor atual da coluna na linha\n",
    "        \n",
    "        # Verifica se o valor da coluna está no relacionamento (primeiro valor da tupla)\n",
    "        for idx1, idx2 in relacionamentos:\n",
    "            if valor_coluna == idx1:  # Se o valor na coluna é igual ao primeiro índice\n",
    "                df.at[idx, coluna] = idx2  # Substitui pelo segundo valor da tupla\n",
    "                \n",
    "    return df\n",
    "\n",
    "def verificar_igualdade_generic(seq_cent, conc_cent, seq_data, conc_data):\n",
    "    seq_data = seq_data.copy()\n",
    "    conc_data = conc_data.copy()\n",
    "\n",
    "    # Verificar a relação entre os centroides\n",
    "    rel = comparar_linhas(seq_cent, conc_cent)\n",
    "\n",
    "    # Deixa a referências aos centroides igual a dos dados do concorrente\n",
    "    # Os mesmos centróides estão em linhas diferentes nos arquivos de cada execução\n",
    "    # Então é preciso fazer essa correlação para termos as uma única referência a um mesmo centróide\n",
    "    seq_data = substituir_por_relacionamento(seq_data, rel, \"centroide\")\n",
    "\n",
    "    # Ordena pelo índice do dataset original e reseta os índices para comparar depois\n",
    "    conc_data.sort_values(\"index\", inplace=True)\n",
    "    conc_data.reset_index(drop=True,inplace=True)\n",
    "\n",
    "    seq_data.sort_values(\"index\", inplace=True)\n",
    "    seq_data.reset_index(drop=True,inplace=True)\n",
    "\n",
    "    # Guarda series que possui True para igualdades e False para diferentes\n",
    "    # Foi necessário resetar o índice anteriormente pois essa comparação necessita\n",
    "    # que os índices sejam os mesmos na mesma sequência\n",
    "    igualdades = (seq_data[\"centroide\"] == conc_data[\"centroide\"])\n",
    "\n",
    "    # Obtém a quantidade de diferenças\n",
    "    disc = (~igualdades).sum()\n",
    "\n",
    "    \n",
    "    if (disc) == 0:\n",
    "        print(disc)\n",
    "        print(\"Os dois programas atribuiram os mesmos pontos aos mesmos centroides.\")\n",
    "    else:\n",
    "        print(disc)\n",
    "        print(\"Há pontos iguais pertencentes a centroides diferentes. Houve discordância entre os programas\")"
   ]
  },
  {
   "cell_type": "markdown",
   "metadata": {},
   "source": [
    "# Primeiro teste"
   ]
  },
  {
   "cell_type": "markdown",
   "metadata": {},
   "source": [
    "- K = 3\n",
    "- Número de Processos = 8\n",
    "- Colunas utilizadas = [\"SepalLengthCm\", \"SepalWidthCm\", \"PetalLengthCm\"]"
   ]
  },
  {
   "cell_type": "markdown",
   "metadata": {},
   "source": [
    "## Sequencial"
   ]
  },
  {
   "cell_type": "code",
   "execution_count": 80,
   "metadata": {},
   "outputs": [],
   "source": [
    "df_seq_cent = pd.read_csv(\"./Sequencial/k_3_centers\")"
   ]
  },
  {
   "cell_type": "code",
   "execution_count": 81,
   "metadata": {},
   "outputs": [],
   "source": [
    "df_seq_data = pd.read_csv(\"./Sequencial/k_3_data\")"
   ]
  },
  {
   "cell_type": "markdown",
   "metadata": {},
   "source": [
    "## Concorrente"
   ]
  },
  {
   "cell_type": "code",
   "execution_count": 82,
   "metadata": {},
   "outputs": [],
   "source": [
    "df_conc_cent = pd.read_csv(\"./Concorrente/k_3_p_8_centers\")"
   ]
  },
  {
   "cell_type": "code",
   "execution_count": 83,
   "metadata": {},
   "outputs": [],
   "source": [
    "df_conc_data = pd.read_csv(\"./Concorrente/k_3_p_8_data\")"
   ]
  },
  {
   "cell_type": "markdown",
   "metadata": {},
   "source": [
    "-----------------------"
   ]
  },
  {
   "cell_type": "code",
   "execution_count": 84,
   "metadata": {},
   "outputs": [
    {
     "name": "stdout",
     "output_type": "stream",
     "text": [
      "0\n",
      "Os dois programas atribuiram os mesmos pontos aos mesmos centroides.\n"
     ]
    }
   ],
   "source": [
    "verificar_igualdade_generic(df_seq_cent, df_conc_cent, df_seq_data, df_conc_data)"
   ]
  },
  {
   "cell_type": "markdown",
   "metadata": {},
   "source": [
    "# Segundo teste"
   ]
  },
  {
   "cell_type": "markdown",
   "metadata": {},
   "source": [
    "- K = 4\n",
    "- Número de Processos = 8\n",
    "- Colunas utilizadas = [\"SepalLengthCm\", \"SepalWidthCm\", \"PetalLengthCm\"]"
   ]
  },
  {
   "cell_type": "markdown",
   "metadata": {},
   "source": [
    "## Sequencial"
   ]
  },
  {
   "cell_type": "code",
   "execution_count": 85,
   "metadata": {},
   "outputs": [],
   "source": [
    "df_seq_cent = pd.read_csv(\"./Sequencial/k_4_centers\")"
   ]
  },
  {
   "cell_type": "code",
   "execution_count": 86,
   "metadata": {},
   "outputs": [],
   "source": [
    "df_seq_data = pd.read_csv(\"./Sequencial/k_4_data\")"
   ]
  },
  {
   "cell_type": "markdown",
   "metadata": {},
   "source": [
    "## Concorrente"
   ]
  },
  {
   "cell_type": "code",
   "execution_count": 87,
   "metadata": {},
   "outputs": [],
   "source": [
    "df_conc_cent = pd.read_csv(\"./Concorrente/k_4_p_8_centers\")"
   ]
  },
  {
   "cell_type": "code",
   "execution_count": 88,
   "metadata": {},
   "outputs": [],
   "source": [
    "df_conc_data = pd.read_csv(\"./Concorrente/k_4_p_8_data\")"
   ]
  },
  {
   "cell_type": "markdown",
   "metadata": {},
   "source": [
    "-----------------------"
   ]
  },
  {
   "cell_type": "code",
   "execution_count": 89,
   "metadata": {},
   "outputs": [
    {
     "name": "stdout",
     "output_type": "stream",
     "text": [
      "0\n",
      "Os dois programas atribuiram os mesmos pontos aos mesmos centroides.\n"
     ]
    }
   ],
   "source": [
    "verificar_igualdade_generic(df_seq_cent, df_conc_cent, df_seq_data, df_conc_data)"
   ]
  },
  {
   "cell_type": "markdown",
   "metadata": {},
   "source": [
    "# Terceiro teste"
   ]
  },
  {
   "cell_type": "markdown",
   "metadata": {},
   "source": [
    "- K = 3\n",
    "- Número de Processos = 4\n",
    "- Colunas utilizadas = [\"SepalLengthCm\", \"SepalWidthCm\", \"PetalLengthCm\"]"
   ]
  },
  {
   "cell_type": "markdown",
   "metadata": {},
   "source": [
    "## Sequencial"
   ]
  },
  {
   "cell_type": "code",
   "execution_count": 100,
   "metadata": {},
   "outputs": [],
   "source": [
    "df_seq_cent = pd.read_csv(\"./Sequencial/k_3_centers\")"
   ]
  },
  {
   "cell_type": "code",
   "execution_count": 101,
   "metadata": {},
   "outputs": [],
   "source": [
    "df_seq_data = pd.read_csv(\"./Sequencial/k_3_data\")"
   ]
  },
  {
   "cell_type": "markdown",
   "metadata": {},
   "source": [
    "## Concorrente"
   ]
  },
  {
   "cell_type": "code",
   "execution_count": 102,
   "metadata": {},
   "outputs": [],
   "source": [
    "df_conc_cent = pd.read_csv(\"./Concorrente/k_3_p_4_centers\")"
   ]
  },
  {
   "cell_type": "code",
   "execution_count": 103,
   "metadata": {},
   "outputs": [],
   "source": [
    "df_conc_data = pd.read_csv(\"./Concorrente/k_3_p_4_data\")"
   ]
  },
  {
   "cell_type": "markdown",
   "metadata": {},
   "source": [
    "-----------------------"
   ]
  },
  {
   "cell_type": "code",
   "execution_count": 104,
   "metadata": {},
   "outputs": [
    {
     "name": "stdout",
     "output_type": "stream",
     "text": [
      "0\n",
      "Os dois programas atribuiram os mesmos pontos aos mesmos centroides.\n"
     ]
    }
   ],
   "source": [
    "verificar_igualdade_generic(df_seq_cent, df_conc_cent, df_seq_data, df_conc_data)"
   ]
  },
  {
   "cell_type": "markdown",
   "metadata": {},
   "source": [
    "# Quarto teste"
   ]
  },
  {
   "cell_type": "markdown",
   "metadata": {},
   "source": [
    "- K = 4\n",
    "- Número de Processos = 4\n",
    "- Colunas utilizadas = [\"SepalLengthCm\", \"SepalWidthCm\", \"PetalLengthCm\"]"
   ]
  },
  {
   "cell_type": "markdown",
   "metadata": {},
   "source": [
    "## Sequencial"
   ]
  },
  {
   "cell_type": "code",
   "execution_count": 95,
   "metadata": {},
   "outputs": [],
   "source": [
    "df_seq_cent = pd.read_csv(\"./Sequencial/k_4_centers\")"
   ]
  },
  {
   "cell_type": "code",
   "execution_count": 96,
   "metadata": {},
   "outputs": [],
   "source": [
    "df_seq_data = pd.read_csv(\"./Sequencial/k_4_data\")"
   ]
  },
  {
   "cell_type": "markdown",
   "metadata": {},
   "source": [
    "## Concorrente"
   ]
  },
  {
   "cell_type": "code",
   "execution_count": 97,
   "metadata": {},
   "outputs": [],
   "source": [
    "df_conc_cent = pd.read_csv(\"./Concorrente/k_4_p_4_centers\")"
   ]
  },
  {
   "cell_type": "code",
   "execution_count": 98,
   "metadata": {},
   "outputs": [],
   "source": [
    "df_conc_data = pd.read_csv(\"./Concorrente/k_4_p_4_data\")"
   ]
  },
  {
   "cell_type": "markdown",
   "metadata": {},
   "source": [
    "-----------------------"
   ]
  },
  {
   "cell_type": "code",
   "execution_count": 99,
   "metadata": {},
   "outputs": [
    {
     "name": "stdout",
     "output_type": "stream",
     "text": [
      "0\n",
      "Os dois programas atribuiram os mesmos pontos aos mesmos centroides.\n"
     ]
    }
   ],
   "source": [
    "verificar_igualdade_generic(df_seq_cent, df_conc_cent, df_seq_data, df_conc_data)"
   ]
  }
 ],
 "metadata": {
  "kernelspec": {
   "display_name": "k-means_concorrente",
   "language": "python",
   "name": "python3"
  },
  "language_info": {
   "codemirror_mode": {
    "name": "ipython",
    "version": 3
   },
   "file_extension": ".py",
   "mimetype": "text/x-python",
   "name": "python",
   "nbconvert_exporter": "python",
   "pygments_lexer": "ipython3",
   "version": "3.10.12"
  }
 },
 "nbformat": 4,
 "nbformat_minor": 2
}
